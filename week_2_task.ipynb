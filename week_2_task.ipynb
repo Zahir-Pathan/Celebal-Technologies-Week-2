{
  "nbformat": 4,
  "nbformat_minor": 0,
  "metadata": {
    "colab": {
      "name": "week 2 task",
      "provenance": []
    },
    "kernelspec": {
      "name": "python3",
      "display_name": "Python 3"
    },
    "language_info": {
      "name": "python"
    }
  },
  "cells": [
    {
      "cell_type": "code",
      "execution_count": 1,
      "metadata": {
        "colab": {
          "base_uri": "https://localhost:8080/"
        },
        "id": "70AAvsTaP2pq",
        "outputId": "53552cfd-da3d-4cb0-bc87-aa4dab4eb95d"
      },
      "outputs": [
        {
          "output_type": "stream",
          "name": "stdout",
          "text": [
            "a + b = 10\n",
            "a - b = 6\n",
            "a * b = 16\n",
            "a / b = 4.0\n",
            "a // b = 4\n",
            "a ** b = 64\n"
          ]
        }
      ],
      "source": [
        "a = 8\n",
        "b = 2\n",
        "\n",
        "print('a + b =',a+b) #addition\n",
        "\n",
        "print('a - b =',a-b) #substraction\n",
        "\n",
        "print('a * b =',a*b) #multiplication\n",
        "\n",
        "print('a / b =',a/b) #division\n",
        "\n",
        "print('a // b =',a//b) #Floor division\n",
        "\n",
        "print('a ** b =',a**b) #Exponentiation"
      ]
    }
  ]
}